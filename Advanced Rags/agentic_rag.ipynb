{
  "cells": [
    {
      "cell_type": "code",
      "execution_count": 96,
      "metadata": {
        "id": "cmZO8p4S0SQ-"
      },
      "outputs": [],
      "source": [
        "!pip install langchain_community tiktoken langchain-groq langchain-mistralai rank_bm25 langchainhub chromadb langchain langgraph tavily-python langchain-huggingface arxiv wikipedia -q"
      ]
    },
    {
      "cell_type": "code",
      "execution_count": 97,
      "metadata": {
        "id": "cb_rzfHu0dQS"
      },
      "outputs": [],
      "source": [
        "import os\n",
        "from google.colab import userdata\n",
        "from langchain_community.document_loaders import WebBaseLoader\n",
        "from langchain.text_splitter import RecursiveCharacterTextSplitter\n",
        "from langchain_community.vectorstores import Chroma\n",
        "from langchain_huggingface import HuggingFaceEmbeddings\n",
        "from langchain.retrievers.multi_query import MultiQueryRetriever\n",
        "from rank_bm25 import BM25Okapi\n",
        "from langchain_core.prompts import ChatPromptTemplate\n",
        "from langchain_groq import ChatGroq\n",
        "from langchain_mistralai import ChatMistralAI\n",
        "from langchain_core.output_parsers import StrOutputParser\n",
        "from langchain_community.utilities import ArxivAPIWrapper,WikipediaAPIWrapper\n",
        "from langchain_community.tools.tavily_search import TavilySearchResults\n",
        "from langchain_community.tools import ArxivQueryRun,WikipediaQueryRun"
      ]
    },
    {
      "cell_type": "code",
      "execution_count": 98,
      "metadata": {
        "id": "qGCXs0_g094w"
      },
      "outputs": [],
      "source": [
        "os.environ[\"TAVILY_API_KEY\"] = userdata.get('TAVILY_API_KEY')\n",
        "os.environ[\"GROQ_API_KEY\"] = userdata.get('GROQ_API_KEY')\n",
        "os.environ[\"MISTRAL_API_KEY\"] = userdata.get('MISTRAL_API_KEY')"
      ]
    },
    {
      "cell_type": "code",
      "execution_count": 99,
      "metadata": {
        "id": "guyf0Wis2e0B"
      },
      "outputs": [],
      "source": [
        "urls = [\"https://medium.com/@muddassir10/machine-learning-based-price-estimation-a-practical-approach-7164b35d10fd\"]\n",
        "\n",
        "docs = [WebBaseLoader(url).load() for url in urls]\n",
        "docs = [doc for doclist in docs for doc in doclist]"
      ]
    },
    {
      "cell_type": "code",
      "execution_count": 100,
      "metadata": {
        "id": "5MTbHNHt3FVi"
      },
      "outputs": [],
      "source": [
        "splitter = RecursiveCharacterTextSplitter.from_tiktoken_encoder(\n",
        "    chunk_size=800, chunk_overlap=30\n",
        ")\n",
        "splitted_docs = splitter.split_documents(docs)"
      ]
    },
    {
      "cell_type": "code",
      "execution_count": 101,
      "metadata": {
        "id": "Mxkt4iNT4BcQ"
      },
      "outputs": [],
      "source": [
        "vector_db = Chroma.from_documents(\n",
        "    documents=splitted_docs,\n",
        "    collection_name='agentic-rag',\n",
        "    embedding=HuggingFaceEmbeddings(model_name=\"sentence-transformers/all-MiniLM-L6-v2\")\n",
        ")\n",
        "base_retriever = vector_db.as_retriever()"
      ]
    },
    {
      "cell_type": "code",
      "execution_count": 102,
      "metadata": {
        "id": "x7uzpaoB4jdj"
      },
      "outputs": [],
      "source": [
        "retriever_llm = ChatGroq(model='llama-3.2-1b-preview')\n",
        "retriever = MultiQueryRetriever.from_llm(\n",
        "    retriever=base_retriever, llm=retriever_llm\n",
        ")"
      ]
    },
    {
      "cell_type": "code",
      "execution_count": 103,
      "metadata": {
        "id": "VimnwDqk5OTQ"
      },
      "outputs": [],
      "source": [
        "def retrieve_docs(query):\n",
        "  return retriever.invoke(query)\n",
        "\n",
        "def rerank_docs(query,docs):\n",
        "  tokenized_docs = [doc.page_content.split() for doc in docs]\n",
        "  bm25 = BM25Okapi(tokenized_docs)\n",
        "  scores = bm25.get_scores(query[0].split())\n",
        "  ranked_docs = sorted(zip(docs,scores),key=lambda x:x[1],reverse=True)\n",
        "  return ranked_docs"
      ]
    },
    {
      "cell_type": "code",
      "execution_count": 104,
      "metadata": {
        "id": "Jdvbqe3m5mrR"
      },
      "outputs": [],
      "source": [
        "rag_llm = ChatMistralAI(model='mistral-large-latest',api_key=os.environ['MISTRAL_API_KEY'])\n",
        "#rag_llm = ChatGroq(model='llama3-groq-8b-8192-tool-use-preview')"
      ]
    },
    {
      "cell_type": "code",
      "execution_count": 105,
      "metadata": {
        "id": "ty16U6958JPT"
      },
      "outputs": [],
      "source": [
        "from langchain import hub\n",
        "prompt_str = \"\"\"\n",
        "You are a helpful assistant specialized in question-answering tasks. Follow these instructions carefully:\n",
        "\n",
        "1. Use the provided documents to answer the query.\n",
        "2. If each of the documents is not relevant to the query, respond with exactly: \"Documents Not Relevant\".\n",
        "3. If the documents are not relevant, invoke the tools(wikipedia_tool,arxiv_tool or tavily_tool) to generate an accurate and concise answer to the query.\n",
        "4. Avoid hallucinating information. Base your answers only on the documents provided or on the tool's results.\n",
        "5. Focus on providing only the major and most relevant details in your response.\n",
        "\n",
        "Query: {query}\n",
        "Documents: {docs}\n",
        "Answer:\n",
        "\"\"\"\n",
        "prompt = ChatPromptTemplate.from_template(prompt_str)"
      ]
    },
    {
      "cell_type": "code",
      "execution_count": 106,
      "metadata": {
        "id": "LlNxx3zM83bC"
      },
      "outputs": [],
      "source": [
        "rag_chain =  prompt |rag_llm| StrOutputParser()"
      ]
    },
    {
      "cell_type": "code",
      "execution_count": 107,
      "metadata": {
        "colab": {
          "base_uri": "https://localhost:8080/",
          "height": 35
        },
        "id": "U6lAKIO2833B",
        "outputId": "44cb4d80-3d24-428a-f255-925d79283e48"
      },
      "outputs": [
        {
          "output_type": "execute_result",
          "data": {
            "text/plain": [
              "'Documents Not Relevant'"
            ],
            "application/vnd.google.colaboratory.intrinsic+json": {
              "type": "string"
            }
          },
          "metadata": {},
          "execution_count": 107
        }
      ],
      "source": [
        "query = \"what are siamese networks\"\n",
        "rag_chain.invoke({'query':query,'docs':rerank_docs(query,retrieve_docs(query))[:3]})"
      ]
    },
    {
      "cell_type": "code",
      "execution_count": 108,
      "metadata": {
        "id": "usDCF8KO9BJR"
      },
      "outputs": [],
      "source": [
        "arxiv_wrapper = ArxivAPIWrapper(top_k_results=1,doc_content_chars_max=300)\n",
        "wikipedia_wrapper = WikipediaAPIWrapper(top_k_results=1,doc_content_chars_max=300)\n",
        "\n",
        "arxiv_tool = ArxivQueryRun(api_wrapper=arxiv_wrapper)\n",
        "wikipedia_tool = WikipediaQueryRun(api_wrapper=wikipedia_wrapper)\n",
        "\n",
        "tavily_tool = TavilySearchResults()\n",
        "\n",
        "tools = [tavily_tool,wikipedia_tool,arxiv_tool]"
      ]
    },
    {
      "cell_type": "code",
      "execution_count": 109,
      "metadata": {
        "id": "pg6h4TRXPpGa"
      },
      "outputs": [],
      "source": [
        "query = \"What is cosine similarity?\"\n",
        "llm_with_tools = rag_llm.bind_tools(tools=tools)\n",
        "x = llm_with_tools.invoke(query)"
      ]
    },
    {
      "cell_type": "code",
      "execution_count": 110,
      "metadata": {
        "colab": {
          "base_uri": "https://localhost:8080/"
        },
        "id": "SU665jXbag9n",
        "outputId": "ef66e161-951a-4a96-9d52-fc0a37364474"
      },
      "outputs": [
        {
          "output_type": "execute_result",
          "data": {
            "text/plain": [
              "AIMessage(content='Cosine similarity is a measure of similarity between two non-zero vectors of an inner product space. It is measured by the cosine of the angle between two vectors and determines whether two vectors are pointing in roughly the same direction. It is often used in positive space, where the outcome is neatly bounded in [0,1].\\n\\nThe cosine similarity of two vectors (A and B) is defined as:\\n\\n\\\\[ \\\\text{cosine\\\\_similarity}(A, B) = \\\\cos(\\\\theta) = \\\\frac{A \\\\cdot B}{\\\\|A\\\\| \\\\|B\\\\|} \\\\]\\n\\nwhere:\\n- \\\\( A \\\\cdot B \\\\) is the dot product of \\\\( A \\\\) and \\\\( B \\\\)\\n- \\\\( \\\\|A\\\\| \\\\) is the magnitude (or length) of vector \\\\( A \\\\)\\n- \\\\( \\\\|B\\\\| \\\\) is the magnitude (or length) of vector \\\\( B \\\\)\\n- \\\\( \\\\theta \\\\) is the angle between \\\\( A \\\\) and \\\\( B \\\\)\\n\\nCosine similarity is particularly useful in text analysis, where vectors represent the frequency of words or terms in documents. It helps in determining the similarity between documents, clustering similar documents together, and identifying relevant documents based on a query.\\n\\n### Key Points:\\n1. **Range**: Cosine similarity ranges from -1 to 1, where 1 means the vectors are identical, 0 means the vectors are orthogonal (no similarity), and -1 means the vectors are diametrically opposed.\\n2. **Scale Invariance**: Cosine similarity is invariant to the scale of the vectors, meaning it only considers the direction of the vectors, not their magnitude.\\n3. **Applications**: Commonly used in information retrieval, text mining, and recommendations systems to measure document similarity.\\n\\n### Example:\\nSuppose you have two vectors \\\\( A = [1, 2, 3] \\\\) and \\\\( B = [4, 5, 6] \\\\). The cosine similarity between \\\\( A \\\\) and \\\\( B \\\\) is calculated as follows:\\n\\n1. **Dot Product**: \\\\( A \\\\cdot B = 1*4 + 2*5 + 3*6 = 4 + 10 + 18 = 32 \\\\)\\n2. **Magnitudes**:\\n   - \\\\( \\\\|A\\\\| = \\\\sqrt{1^2 + 2^2 + 3^2} = \\\\sqrt{1 + 4 + 9} = \\\\sqrt{14} \\\\)\\n   - \\\\( \\\\|B\\\\| = \\\\sqrt{4^2 + 5^2 + 6^2} = \\\\sqrt{16 + 25 + 36} = \\\\sqrt{77} \\\\)\\n3. **Cosine Similarity**:\\n   \\\\[\\n   \\\\text{cosine\\\\_similarity}(A, B) = \\\\frac{32}{\\\\sqrt{14} \\\\times \\\\sqrt{77}} = \\\\frac{32}{\\\\sqrt{1078}} \\\\approx 0.973\\n   \\\\]\\n\\nThis indicates that the vectors \\\\( A \\\\) and \\\\( B \\\\) are very similar in direction.', additional_kwargs={}, response_metadata={'token_usage': {'prompt_tokens': 337, 'total_tokens': 1033, 'completion_tokens': 696}, 'model': 'mistral-large-latest', 'finish_reason': 'stop'}, id='run-ff17e970-b8ac-415b-a275-41064ea8ea82-0', usage_metadata={'input_tokens': 337, 'output_tokens': 696, 'total_tokens': 1033})"
            ]
          },
          "metadata": {},
          "execution_count": 110
        }
      ],
      "source": [
        "x"
      ]
    },
    {
      "cell_type": "code",
      "execution_count": 131,
      "metadata": {
        "id": "siD4PpU-CsOk"
      },
      "outputs": [],
      "source": [
        "from typing import Annotated\n",
        "from typing_extensions import TypedDict\n",
        "from langgraph.graph import StateGraph,START,END\n",
        "from langgraph.graph.message import add_messages\n",
        "\n",
        "class State(TypedDict):\n",
        "  messages:Annotated[list,add_messages]\n",
        "\n",
        "def retrieve(state: State):\n",
        "  messages = state['messages']\n",
        "  query = messages[0].content\n",
        "  #docs = base_retriever.invoke(query)\n",
        "  docs = retriever.invoke(query)\n",
        "  ranked_docs = rerank_docs(query,docs)[:3]\n",
        "  docs_str = \" \".join([doc[0].page_content for doc in ranked_docs])\n",
        "\n",
        "  return {'messages' : [{'content':\"\\n\\n\".join([doc[0].page_content for doc in ranked_docs]),'role':'system'}]}\n",
        "\n",
        "def chat(state: State):\n",
        "  messages = state['messages']\n",
        "  query = messages[0].content\n",
        "  docs = \"\\n\".join([msg.content for msg in messages[:-1]])\n",
        "  response = rag_chain.invoke({'query':query,'docs':docs})\n",
        "\n",
        "  if response:\n",
        "    res = llm_with_tools.invoke(query)\n",
        "    return {'messages' : [{'content':\"\\n\"+str(res)+\"\\n\"+response,'role':'ai'}]}\n",
        "  else:\n",
        "    return {'messages' : [{'content':\"\\n\"+response,'role':'ai'}]}"
      ]
    },
    {
      "cell_type": "code",
      "execution_count": 132,
      "metadata": {
        "id": "9bGrx-KGUt2l"
      },
      "outputs": [],
      "source": [
        "from langgraph.prebuilt import ToolNode,tools_condition"
      ]
    },
    {
      "cell_type": "code",
      "execution_count": 133,
      "metadata": {
        "colab": {
          "base_uri": "https://localhost:8080/",
          "height": 365
        },
        "id": "LGERajA2DjKU",
        "outputId": "b306e6f2-3039-4dcb-cb21-1bb49581d830"
      },
      "outputs": [
        {
          "output_type": "display_data",
          "data": {
            "image/png": "[encoded data removed]",
            "text/plain": [
              "<IPython.core.display.Image object>"
            ]
          },
          "metadata": {}
        }
      ],
      "source": [
        "tool_node = ToolNode(tools=tools)\n",
        "builder = StateGraph(State)\n",
        "builder.add_edge(START,'retrieve')\n",
        "builder.add_node('retrieve',retrieve)\n",
        "builder.add_node('chat',chat)\n",
        "builder.add_edge('retrieve','chat')\n",
        "builder.add_node('tools',tool_node)\n",
        "builder.add_conditional_edges('chat',tools_condition)\n",
        "builder.add_edge('tools','chat')\n",
        "graph = builder.compile()\n",
        "\n",
        "from IPython.display import Image,display\n",
        "try:\n",
        "  display(Image(graph.get_graph().draw_mermaid_png()))\n",
        "except Exception:\n",
        "  pass"
      ]
    },
    {
      "cell_type": "code",
      "execution_count": 134,
      "metadata": {
        "colab": {
          "base_uri": "https://localhost:8080/"
        },
        "id": "-Q41bEGZEHFl",
        "outputId": "bb058a7d-aab2-4255-8d9e-c825fde2ca77"
      },
      "outputs": [
        {
          "output_type": "stream",
          "name": "stdout",
          "text": [
            "================================\u001b[1m Human Message \u001b[0m=================================\n",
            "\n",
            "What is bulking up?\n",
            "================================\u001b[1m System Message \u001b[0m================================\n",
            "\n",
            "ClassificationExcelGuideIntermediateProbabilityPythonPythonPyTorch \n",
            "\n",
            "\n",
            "\n",
            "Free Courses\n",
            "\n",
            "\n",
            "\n",
            "\n",
            "\n",
            "\n",
            "\n",
            "\n",
            "    \n",
            "                                            4.7\n",
            "                                        \n",
            "\n",
            "\n",
            "Generative AI - A Way of Life\n",
            "Explore Generative AI for beginners: create text and images, use top AI tools, learn practical skills, and ethics.\n",
            "\n",
            "\n",
            "\n",
            "\n",
            "\n",
            "\n",
            "\n",
            "\n",
            "\n",
            "\n",
            "\n",
            "\n",
            "    \n",
            "                                            4.5\n",
            "                                        \n",
            "\n",
            "\n",
            "Getting Started with Large Language Models\n",
            "Master Large Language Models (LLMs) with this course, offering clear guidance in NLP and model training made simple.\n",
            "\n",
            "\n",
            "\n",
            "\n",
            "\n",
            "\n",
            "\n",
            "\n",
            "\n",
            "\n",
            "\n",
            "\n",
            "    \n",
            "                                            4.6\n",
            "                                        \n",
            "\n",
            "\n",
            "Building LLM Applications using Prompt Engineering \n",
            "This free course guides you on building LLM apps, mastering prompt engineering, and developing chatbots with enterprise data.\n",
            "\n",
            "\n",
            "\n",
            "\n",
            "\n",
            "\n",
            "\n",
            "\n",
            "\n",
            "\n",
            "\n",
            "\n",
            "    \n",
            "                                            4.8\n",
            "                                        \n",
            "\n",
            "\n",
            "Improving Real World RAG Systems: Key Challenges & Practical Solutions\n",
            "Explore practical solutions, advanced retrieval strategies, and agentic RAG systems to improve context, relevance, and accuracy in AI-driven applications.\n",
            "\n",
            "\n",
            "\n",
            "\n",
            "\n",
            "\n",
            "\n",
            "\n",
            "\n",
            "\n",
            "\n",
            "\n",
            "    \n",
            "                                            4.7\n",
            "                                        \n",
            "\n",
            "\n",
            "Microsoft Excel: Formulas & Functions\n",
            "Master MS Excel for data analysis with key formulas, functions, and LookUp tools in this comprehensive course.\n",
            "\n",
            "\n",
            "\n",
            "\n",
            "\n",
            "\n",
            "\n",
            "\n",
            "\n",
            "\n",
            "\n",
            "Recommended Articles\n",
            "\n",
            "\n",
            "\n",
            "\n",
            "          Image Classification Using CNN          \n",
            "\n",
            "\n",
            "\n",
            "\n",
            "\n",
            "          Analyzing Types of Neural Networks in Deep Lear...          \n",
            "\n",
            "\n",
            "\n",
            "\n",
            "\n",
            "          An Introductory Guide to Understand how ANNs Co...\n",
            "\n",
            "Flagship Courses \n",
            "GenAI Pinnacle Program|  AI/ML BlackBelt Courses\n",
            "\n",
            "\n",
            "Free Courses\n",
            "Generative AI| Large Language Models| Building LLM Applications using Prompt Engineering| Building Your first RAG System using LlamaIndex| Stability.AI| MidJourney| Building Production Ready RAG systems using LlamaIndex| Building LLMs for Code| Deep Learning| Python| Microsoft Excel| Machine Learning| Decision Trees| Pandas for Data Analysis| Ensemble Learning| NLP| NLP using Deep Learning| Neural Networks| Loan Prediction Practice Problem| Time Series Forecasting| Tableau| Business Analytics\n",
            "\n",
            "\n",
            "Popular Categories\n",
            "Generative AI| Prompt Engineering| Generative AI Application| News| Technical Guides| AI Tools| Interview Preparation| Research Papers| Success Stories| Quiz| Use Cases| Listicles\n",
            "\n",
            "\n",
            "Generative AI Tools and Techniques\n",
            "\n",
            "GANs|  VAEs|  Transformers|  StyleGAN|  Pix2Pix| Autoencoders| GPT| BERT| Word2Vec| LSTM| Attention Mechanisms| Diffusion Models| LLMs| SLMs| StyleGAN| Encoder Decoder Models| Prompt Engineering| LangChain| LlamaIndex| RAG| Fine-tuning| LangChain AI Agent| Multimodal Models| RNNs| DCGAN| ProGAN| Text-to-Image Models| DDPM| Document Question Answering| Imagen| T5 (Text-to-Text Transfer Transformer)| Seq2seq Models| WaveNet| Attention Is All You Need (Transformer Architecture) \n",
            "\n",
            "\n",
            "\n",
            "Popular GenAI Models\n",
            "Llama 3.1| Llama 3| Llama 2| GPT 4o Mini| GPT 4o| GPT 3| Claude 3 Haiku| Claude 3.5 Sonnet| Phi 3.5| Phi 3| Mistral Large 2| Mistral NeMo| Mistral-7b| Gemini 1.5 Pro| Gemini Flash 1.5| Bedrock| Vertex AI| DALL.E| Midjourney| Stable Diffusion\n",
            "\n",
            "\n",
            "Data Science Tools and Techniques\n",
            "Python| R| SQL| Jupyter Notebooks| TensorFlow| Scikit-learn| PyTorch| Tableau| Apache Spark| Matplotlib| Seaborn| Pandas| Hadoop| Docker| Git| Keras| Apache Kafka| AWS| NLP| Random Forest| Computer Vision| Data Visualization| Data Exploration| Big Data| Common Machine Learning Algorithms| Machine Learning\n",
            "\n",
            "\n",
            "\n",
            "\n",
            "\n",
            "\n",
            "\n",
            "\n",
            "Company\n",
            "\n",
            "About Us\n",
            "Contact Us\n",
            "Careers\n",
            "\n",
            "\n",
            "\n",
            "Discover\n",
            "\n",
            "Blogs\n",
            "Expert session\n",
            "Podcasts\n",
            "Comprehensive Guides\n",
            "\n",
            "\n",
            "\n",
            "Learn\n",
            "\n",
            "Free courses\n",
            "AI/ML BlackBelt Program\n",
            "GenAI Program\n",
            "Agentic AI Pioneer Program\n",
            "\n",
            "\n",
            "\n",
            "Engage\n",
            "\n",
            "Community\n",
            "Hackathons\n",
            "Events\n",
            "AI Newsletter\n",
            "\n",
            "\n",
            "\n",
            "Contribute\n",
            "\n",
            "Become an Author\n",
            "Become a speaker\n",
            "Become a mentor\n",
            "Become an instructor\n",
            "\n",
            "\n",
            "\n",
            "Enterprise\n",
            "\n",
            "Our offerings\n",
            "Trainings\n",
            "Data Culture\n",
            "\n",
            " \n",
            "\n",
            "\n",
            "\n",
            "\n",
            "\n",
            "\n",
            "\n",
            "\n",
            "\n",
            "\n",
            "\n",
            "\n",
            "\n",
            "\n",
            "\n",
            "\n",
            "\n",
            "\n",
            "\n",
            "\n",
            "\n",
            "\n",
            "Terms & conditions\n",
            "\n",
            "\n",
            "\n",
            "Refund Policy\n",
            "\n",
            "\n",
            "\n",
            "Privacy Policy\n",
            "\n",
            "\n",
            "\n",
            "Cookies Policy\n",
            "© Analytics Vidhya 2025.All rights reserved.\n",
            "\n",
            "\n",
            "\n",
            "\n",
            "\n",
            "\n",
            "\n",
            "\n",
            "\n",
            "\n",
            "\n",
            "\n",
            "\n",
            "\n",
            "\n",
            "\n",
            "\n",
            "\n",
            "\n",
            "\n",
            "\n",
            "\n",
            "\n",
            "\n",
            "\n",
            "\n",
            "\n",
            "\n",
            "\n",
            "\n",
            "\n",
            "\n",
            "\n",
            "GenAI \n",
            "Pinnacle \n",
            "Program\n",
            "\n",
            "Revolutionizing AI Learning & Development\n",
            "\n",
            "1:1 Mentorship with Generative AI experts\n",
            "Advanced Curriculum with 200+ Hours of Learning\n",
            "Master 26+ GenAI Tools and Libraries\n",
            "\n",
            "\n",
            "Enroll with us today!\n",
            "\n",
            "\n",
            "\n",
            "\n",
            "\n",
            "\n",
            "\n",
            "\n",
            "\n",
            "\n",
            "\n",
            "\n",
            "I Agree to the Terms & Conditions\n",
            "\n",
            "Perceptron\n",
            "Weights in Perceptron\n",
            "Introduction to Artificial Neural Network\n",
            "\n",
            "\n",
            "\n",
            "\n",
            "\n",
            "\n",
            "                Forward and Backward Propagation            \n",
            "\n",
            "\n",
            "\n",
            "Understanding Forward Propagation Mathematically\n",
            "Understand Backward Propagation Mathematically\n",
            "Implementing Neural Networks in Python\n",
            "\n",
            "\n",
            "\n",
            "\n",
            "\n",
            "\n",
            "                Optimizers            \n",
            "\n",
            "\n",
            "\n",
            "Problems with Gradient Descent\n",
            "Gradient Descent with Momentum\n",
            "Adagrad and Adadelta\n",
            "\n",
            "\n",
            "\n",
            "\n",
            "\n",
            "\n",
            "                Learning Rate Schedulers            \n",
            "\n",
            "\n",
            "\n",
            "Introduction to Learning Rate Schedulers\n",
            "\n",
            "\n",
            "\n",
            "\n",
            "\n",
            "\n",
            "                NN on Structured Data            \n",
            "\n",
            "\n",
            "\n",
            "Overview of Deep Learning Frameworks\n",
            "Implementing Neural Networks using Keras\n",
            "Functional API in Keras\n",
            "Implementing Neural Networks using Keras\n",
            "Hyperparameter Tuning of MLP in Keras\n",
            "\n",
            "\n",
            "\n",
            "\n",
            "\n",
            "\n",
            "                Improving the Deep Learning Model            \n",
            "\n",
            "\n",
            "\n",
            "Understanding Early stopping\n",
            "Understanding Dropout\n",
            "Vanishing and Exploding Gradients\n",
            "Weights Initialization Techniques\n",
            "Implementing Weight Initializing Techniques\n",
            "Batch Normalization\n",
            "Image Augmentation Techniques\n",
            "Image Generator and Fit Generator\n",
            "Model Checkpointing\n",
            "Implementing Model Checkpointing\n",
            "Dealing with Class Imbalance\n",
            "Ensemble Deep Learning\n",
            "\n",
            "\n",
            "\n",
            "\n",
            "\n",
            "\n",
            "                Deep Learning Model Optimization            \n",
            "\n",
            "\n",
            "\n",
            "Introduction to GPU and TPU\n",
            "TensorRT\n",
            "\n",
            "\n",
            "\n",
            "\n",
            "\n",
            "\n",
            "                Unsupervised Deep Learning            \n",
            "\n",
            "\n",
            "\n",
            "Introduction to Unsupervised Learning\n",
            "How to Solve Unsupervised Learning Problems?\n",
            "Introduction to Autoencoders\n",
            "Implementing Autoencoders\n",
            "\n",
            "\n",
            "\n",
            "\n",
            "\n",
            "\n",
            "                AutoDL            \n",
            "\n",
            "\n",
            "\n",
            "A Beginners Guide to Codeless Deep Learning\n",
            "\n",
            "\n",
            "\n",
            "\n",
            "\n",
            "\n",
            "                Model Deployment            \n",
            "\n",
            "\n",
            "\n",
            "TensorFlow Serving\n",
            "Build Deep Learning Models for Android\n",
            "\n",
            "\n",
            "\n",
            "\n",
            "\n",
            "\n",
            "                Introduction to PyTorch            \n",
            "\n",
            "\n",
            "\n",
            "Introduction to PyTorch and Tensors\n",
            "Mathematical and Matrix Operations in PyTorch\n",
            "Important PyTorch Modules\n",
            "Implement CNN in PyTorch\n",
            "Transfer Learning in PyTorch\n",
            "Working with Text Data in PyTorch\n",
            "Building a RNN model in PyTorch\n",
            "Autoencoders in PyTorch\n",
            "\n",
            "\n",
            "\n",
            "\n",
            "\n",
            "\n",
            "\n",
            "\n",
            "\n",
            "\n",
            "\n",
            "\n",
            "Home\n",
            "\n",
            "Classification\n",
            "==================================\u001b[1m Ai Message \u001b[0m==================================\n",
            "\n",
            "\n",
            "content='Bulking up typically refers to the process of gaining muscle mass and increasing overall body size. This is often achieved through a combination of strength training (such as weightlifting), increased caloric intake, and adequate protein consumption. The goal of bulking up is to build muscle, which usually involves creating a caloric surplus—consuming more calories than your body needs to maintain its current weight—while engaging in resistance training to stimulate muscle growth.\\n\\nKey components of bulking up include:\\n\\n1. **Nutrition**: A high-calorie diet rich in protein, carbohydrates, and healthy fats. Protein is particularly important for muscle repair and growth.\\n2. **Strength Training**: Regular weightlifting or other forms of resistance training to stress the muscles and promote growth.\\n3. **Rest and Recovery**: Adequate sleep and rest days to allow muscles to recover and grow.\\n4. **Progressive Overload**: Gradually increasing the intensity of workouts by adding more weight, reps, or sets over time.\\n\\nBulking up is a common goal for bodybuilders, athletes, and individuals looking to improve their physique or physical performance.' additional_kwargs={} response_metadata={'token_usage': {'prompt_tokens': 336, 'total_tokens': 588, 'completion_tokens': 252}, 'model': 'mistral-large-latest', 'finish_reason': 'stop'} id='run-5da05217-bdbc-460d-a31c-f2d693f8cbf6-0' usage_metadata={'input_tokens': 336, 'output_tokens': 252, 'total_tokens': 588}\n",
            "Bulking up refers to the process of intentionally gaining muscle mass and strength through a combination of increased caloric intake, protein consumption, and resistance training. It is a common practice among bodybuilders, athletes, and fitness enthusiasts who aim to build a larger and more muscular physique. The process typically involves consuming more calories than the body burns, ensuring a high-protein diet, and engaging in weightlifting or other forms of strength training to stimulate muscle growth.\n"
          ]
        }
      ],
      "source": [
        "you = \"what is bulking up?\".capitalize()\n",
        "events = graph.stream(\n",
        "    {'messages': [('user',you)]},stream_mode='values'\n",
        ")\n",
        "for event in events:\n",
        "  event['messages'][-1].pretty_print()"
      ]
    },
    {
      "cell_type": "code",
      "source": [
        "x = graph.invoke({'messages':[{'content':\"What is agentic AI\",'role':'user'}]})"
      ],
      "metadata": {
        "id": "sMO8Yst4W3Un"
      },
      "execution_count": 138,
      "outputs": []
    },
    {
      "cell_type": "code",
      "source": [
        "x['messages'][-1].content.split('\\n')[-1]"
      ],
      "metadata": {
        "colab": {
          "base_uri": "https://localhost:8080/",
          "height": 87
        },
        "id": "XsKy_4hPj_tz",
        "outputId": "5f059f68-0231-450d-9367-d435efc70818"
      },
      "execution_count": 143,
      "outputs": [
        {
          "output_type": "execute_result",
          "data": {
            "text/plain": [
              "'Agentic AI refers to artificial intelligence systems that are designed to act autonomously and proactively on behalf of users or other entities. These AI agents can perform tasks, make decisions, and interact with their environment without constant human oversight. They are often equipped with capabilities such as learning from experience, adapting to new situations, and communicating effectively to achieve their goals. Examples include virtual assistants, autonomous vehicles, and robotic systems used in various industries.'"
            ],
            "application/vnd.google.colaboratory.intrinsic+json": {
              "type": "string"
            }
          },
          "metadata": {},
          "execution_count": 143
        }
      ]
    },
    {
      "cell_type": "code",
      "source": [],
      "metadata": {
        "id": "ZUcUTEl1kauj"
      },
      "execution_count": null,
      "outputs": []
    }
  ],
  "metadata": {
    "colab": {
      "provenance": []
    },
    "kernelspec": {
      "display_name": "Python 3",
      "name": "python3"
    },
    "language_info": {
      "name": "python"
    }
  },
  "nbformat": 4,
  "nbformat_minor": 0
}