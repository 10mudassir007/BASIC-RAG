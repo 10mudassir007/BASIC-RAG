{
  "cells": [
    {
      "cell_type": "code",
      "execution_count": 1,
      "metadata": {
        "id": "cmZO8p4S0SQ-"
      },
      "outputs": [],
      "source": [
        "!pip install langchain_community tiktoken langchain-groq langchain-mistralai rank_bm25 langchainhub chromadb langchain langgraph tavily-python langchain-huggingface arxiv wikipedia -q"
      ]
    },
    {
      "cell_type": "code",
      "execution_count": 2,
      "metadata": {
        "id": "cb_rzfHu0dQS",
        "colab": {
          "base_uri": "https://localhost:8080/"
        },
        "outputId": "b47a7634-0ebf-45eb-d9c5-60cfbdaac162"
      },
      "outputs": [
        {
          "output_type": "stream",
          "name": "stderr",
          "text": [
            "WARNING:langchain_community.utils.user_agent:USER_AGENT environment variable not set, consider setting it to identify your requests.\n"
          ]
        }
      ],
      "source": [
        "import os\n",
        "from google.colab import userdata\n",
        "from langchain_community.document_loaders import WebBaseLoader\n",
        "from langchain.text_splitter import RecursiveCharacterTextSplitter\n",
        "from langchain_community.vectorstores import Chroma\n",
        "from langchain_huggingface import HuggingFaceEmbeddings\n",
        "from langchain.retrievers.multi_query import MultiQueryRetriever\n",
        "from rank_bm25 import BM25Okapi\n",
        "from langchain_core.prompts import ChatPromptTemplate\n",
        "from langchain_groq import ChatGroq\n",
        "from langchain_mistralai import ChatMistralAI\n",
        "from langchain_core.output_parsers import StrOutputParser\n",
        "from langchain_community.utilities import ArxivAPIWrapper,WikipediaAPIWrapper\n",
        "from langchain_community.tools.tavily_search import TavilySearchResults\n",
        "from langchain_community.tools import ArxivQueryRun,WikipediaQueryRun\n",
        "from langchain.retrievers import ContextualCompressionRetriever\n",
        "from langchain.retrievers.document_compressors import LLMChainExtractor\n"
      ]
    },
    {
      "cell_type": "code",
      "execution_count": 3,
      "metadata": {
        "id": "qGCXs0_g094w"
      },
      "outputs": [],
      "source": [
        "os.environ[\"TAVILY_API_KEY\"] = userdata.get('TAVILY_API_KEY')\n",
        "os.environ[\"GROQ_API_KEY\"] = userdata.get('GROQ_API_KEY')\n",
        "os.environ[\"MISTRAL_API_KEY\"] = userdata.get('MISTRAL_API_KEY')"
      ]
    },
    {
      "cell_type": "code",
      "execution_count": 4,
      "metadata": {
        "id": "guyf0Wis2e0B"
      },
      "outputs": [],
      "source": [
        "urls = [\"https://medium.com/@muddassir10/machine-learning-based-price-estimation-a-practical-approach-7164b35d10fd\"]\n",
        "\n",
        "docs = [WebBaseLoader(url).load() for url in urls]\n",
        "docs = [doc for doclist in docs for doc in doclist]"
      ]
    },
    {
      "cell_type": "code",
      "execution_count": 5,
      "metadata": {
        "id": "5MTbHNHt3FVi"
      },
      "outputs": [],
      "source": [
        "splitter = RecursiveCharacterTextSplitter.from_tiktoken_encoder(\n",
        "    chunk_size=500, chunk_overlap=30\n",
        ")\n",
        "splitted_docs = splitter.split_documents(docs)"
      ]
    },
    {
      "cell_type": "code",
      "execution_count": 6,
      "metadata": {
        "id": "Mxkt4iNT4BcQ"
      },
      "outputs": [],
      "source": [
        "from langchain_mistralai import MistralAIEmbeddings\n",
        "vector_db = Chroma.from_documents(\n",
        "    documents=splitted_docs,\n",
        "    collection_name='agentic-rag',\n",
        "    embedding=HuggingFaceEmbeddings(model_name=\"sentence-transformers/all-MiniLM-L6-v2\"),\n",
        "    persist_directory='./chroma_langchain_db'\n",
        ")\n",
        "base_retriever = vector_db.as_retriever()"
      ]
    },
    {
      "cell_type": "code",
      "execution_count": 7,
      "metadata": {
        "id": "x7uzpaoB4jdj",
        "colab": {
          "base_uri": "https://localhost:8080/"
        },
        "outputId": "eba9a653-fe6c-419f-f899-ae9a0249174e"
      },
      "outputs": [
        {
          "output_type": "execute_result",
          "data": {
            "text/plain": [
              "Document(metadata={'description': 'Our team embarked on a mission to enhance price estimation across diverse domains, driven by a commitment to innovation, data-driven insights, and practical problem-solving. In this blog, we’ll take…', 'language': 'en', 'source': 'https://medium.com/@muddassir10/machine-learning-based-price-estimation-a-practical-approach-7164b35d10fd', 'title': 'Machine Learning-Based Price Estimation: A Practical Approach | by Mudassir Junejo | Medium'}, page_content='*PRELIMINARY MODEL NAVIGATION: Start with a basic Linear Regression model and assess initial scores.')"
            ]
          },
          "metadata": {},
          "execution_count": 7
        }
      ],
      "source": [
        "retriever_llm = ChatGroq(model='llama-3.2-1b-preview')\n",
        "\n",
        "compressor = LLMChainExtractor.from_llm(retriever_llm)\n",
        "retriever = ContextualCompressionRetriever(\n",
        "    base_compressor=compressor, base_retriever=base_retriever\n",
        ")\n",
        "\n",
        "retriever.invoke('what are the documents about?')[0]"
      ]
    },
    {
      "cell_type": "code",
      "execution_count": 8,
      "metadata": {
        "id": "VimnwDqk5OTQ"
      },
      "outputs": [],
      "source": [
        "def retrieve_docs(query):\n",
        "  return retriever.invoke(query)\n",
        "\n",
        "def rerank_docs(query,docs):\n",
        "  tokenized_docs = [doc.page_content.split() for doc in docs]\n",
        "  bm25 = BM25Okapi(tokenized_docs)\n",
        "  scores = bm25.get_scores(query[0].split())\n",
        "  ranked_docs = sorted(zip(docs,scores),key=lambda x:x[1],reverse=True)\n",
        "  docs = [x[0] for x in ranked_docs]\n",
        "  return docs[:3]"
      ]
    },
    {
      "cell_type": "code",
      "source": [
        "query = 'what are the documents about?'\n",
        "#rerank_docs('what are the documents about?',retriever.invoke('what are the documents about?')[0])\n",
        "retriever.invoke(query)"
      ],
      "metadata": {
        "colab": {
          "base_uri": "https://localhost:8080/"
        },
        "id": "n5xMQcQlkwBe",
        "outputId": "a462b066-70c0-4bdb-cded-6a8385783186"
      },
      "execution_count": 9,
      "outputs": [
        {
          "output_type": "execute_result",
          "data": {
            "text/plain": [
              "[Document(metadata={'description': 'Our team embarked on a mission to enhance price estimation across diverse domains, driven by a commitment to innovation, data-driven insights, and practical problem-solving. In this blog, we’ll take…', 'language': 'en', 'source': 'https://medium.com/@muddassir10/machine-learning-based-price-estimation-a-practical-approach-7164b35d10fd', 'title': 'Machine Learning-Based Price Estimation: A Practical Approach | by Mudassir Junejo | Medium'}, page_content='*API Craftsmanship with Flask and Intuitive Webpages:Beyond impressive scores, we created an API using Flask and user-friendly webpages (HTML, CSS, JS) for seamless user interaction.'),\n",
              " Document(metadata={'description': 'Our team embarked on a mission to enhance price estimation across diverse domains, driven by a commitment to innovation, data-driven insights, and practical problem-solving. In this blog, we’ll take…', 'language': 'en', 'source': 'https://medium.com/@muddassir10/machine-learning-based-price-estimation-a-practical-approach-7164b35d10fd', 'title': 'Machine Learning-Based Price Estimation: A Practical Approach | by Mudassir Junejo | Medium'}, page_content='*PRELIMINARY MODEL NAVIGATION* \\n*HYPERPARAMETER ORCHESTRATION* \\n*SCORE UNVEILING GALA* \\n*API Pinnacle* \\n*USER-CENTRIC WEBPAGE SYMPHONY* \\n*MODEL ODYSSEY GRAND FINALE* \\n* MACHINE LEARNING PYTHON*'),\n",
              " Document(metadata={'description': 'Our team embarked on a mission to enhance price estimation across diverse domains, driven by a commitment to innovation, data-driven insights, and practical problem-solving. In this blog, we’ll take…', 'language': 'en', 'source': 'https://medium.com/@muddassir10/machine-learning-based-price-estimation-a-practical-approach-7164b35d10fd', 'title': 'Machine Learning-Based Price Estimation: A Practical Approach | by Mudassir Junejo | Medium'}, page_content='*OUTPUT*\\n\\n> Digital Frontier: API Craftsmanship with Flask and Intuitive Webpages:Beyond impressive scores, we created an API using Flask and user-friendly webpages (HTML, CSS, JS) for seamless user interaction.Conclusion:In a tech-driven era, our project exemplifies the fusion of data, creativity, and persistence. From data collection to model deployment, machine learning simplifies complex tasks, revolutionizing industries. As we conclude this journey, we contemplate the next domain to be transformed by machine learning.Procedure Reimagined:Data Expedition: Gather data comprehensively from diverse sources, including Kaggle.Voyage of Exploration (EDA): Navigate data complexities, unveil patterns, outliers, and relationships.Data Artistry: Refine raw data through feature engineering, scaling, and encoding.Preliminary Model Navigation: Start with a basic Linear Regression model and assess initial scores.Symphony of Complexity: Implement domain-specific models using advanced algorithms.Hyperparameter Orchestration: Fine-tune parameters using GridSearchCV for optimal algorithmic performance.Score Unveiling Gala: Evaluate model performance using metrics like MSE, MAE, R2, and Cross-Validation scores.API Pinnacle: Develop a Flask-based API for seamless digital integration.User-Centric Webpage Symphony: Design webpages (HTML, CSS, JS) for enhanced user experience.Model Odyssey Grand Finale: Release refined models into the digital realm, marking the project’s culmination.Machine LearningPythonAIPrédictionRegression----FollowWritten by Mudassir Junejo1 Follower·7 Following2-year AI/ML engineer, skilled in Python, ML, DL, LLM. Versatile freelancer with expertise in advanced language processing, especially NLP and Generative AIFollowNo responses yetHelpStatusAboutCareersPressBlogPrivacyTermsText to speechTeams')]"
            ]
          },
          "metadata": {},
          "execution_count": 9
        }
      ]
    },
    {
      "cell_type": "code",
      "execution_count": 10,
      "metadata": {
        "id": "Jdvbqe3m5mrR"
      },
      "outputs": [],
      "source": [
        "rag_llm = ChatMistralAI(model='mistral-large-latest',api_key=os.environ['MISTRAL_API_KEY'],max_tokens=1024)\n",
        "#rag_llm = ChatGroq(model='llama3-groq-8b-8192-tool-use-preview',max_tokens=1024)"
      ]
    },
    {
      "cell_type": "code",
      "execution_count": 11,
      "metadata": {
        "id": "ty16U6958JPT"
      },
      "outputs": [],
      "source": [
        "from langchain import hub\n",
        "prompt_str = \"\"\"\n",
        "You are a helpful assistant specialized in question-answering tasks. Follow these instructions carefully:\n",
        "\n",
        "1. Use the provided documents to answer the query.\n",
        "2. If each of the documents is not relevant to the query, respond with exactly (do not say anyother thing just say this): \"Documents Not Relevant\".\n",
        "3. Avoid hallucinating information. Base your answers only on the documents provided or respond with exactly (do not say anyother thing just say this): \"Documents Not Relevant\".\n",
        "4. Focus on providing only the major and most relevant details in your response.\n",
        "\n",
        "Query: {query}\n",
        "Documents: {docs}\n",
        "Answer:\n",
        "\"\"\"\n",
        "prompt = ChatPromptTemplate.from_template(prompt_str)"
      ]
    },
    {
      "cell_type": "code",
      "execution_count": 12,
      "metadata": {
        "id": "LlNxx3zM83bC"
      },
      "outputs": [],
      "source": [
        "rag_chain =  prompt |rag_llm| StrOutputParser()"
      ]
    },
    {
      "cell_type": "code",
      "execution_count": 13,
      "metadata": {
        "colab": {
          "base_uri": "https://localhost:8080/",
          "height": 35
        },
        "id": "U6lAKIO2833B",
        "outputId": "f9179b20-47fe-4e50-9d3d-28d092dd87d9"
      },
      "outputs": [
        {
          "output_type": "execute_result",
          "data": {
            "text/plain": [
              "'Documents Not Relevant'"
            ],
            "application/vnd.google.colaboratory.intrinsic+json": {
              "type": "string"
            }
          },
          "metadata": {},
          "execution_count": 13
        }
      ],
      "source": [
        "query = \"what is Cosine Similarity?\"\n",
        "rag_chain.invoke({'query':query,'docs':rerank_docs(query,retrieve_docs(query))})"
      ]
    },
    {
      "cell_type": "code",
      "execution_count": 16,
      "metadata": {
        "id": "usDCF8KO9BJR"
      },
      "outputs": [],
      "source": [
        "arxiv_wrapper = ArxivAPIWrapper(top_k_results=1,doc_content_chars_max=300)\n",
        "wikipedia_wrapper = WikipediaAPIWrapper(top_k_results=1,doc_content_chars_max=300)\n",
        "\n",
        "arxiv_tool = ArxivQueryRun(api_wrapper=arxiv_wrapper)\n",
        "wikipedia_tool = WikipediaQueryRun(api_wrapper=wikipedia_wrapper)\n",
        "\n",
        "tavily_tool = TavilySearchResults(max_results=2,include_raw_content=False)\n",
        "\n",
        "tools = [tavily_tool]"
      ]
    },
    {
      "cell_type": "code",
      "execution_count": 17,
      "metadata": {
        "id": "pg6h4TRXPpGa"
      },
      "outputs": [],
      "source": [
        "query = \"What is agentic ai?\".lower()\n",
        "llm_with_tools = rag_llm.bind_tools(tools=tools)\n",
        "x = llm_with_tools.invoke(query)"
      ]
    },
    {
      "cell_type": "code",
      "execution_count": 18,
      "metadata": {
        "colab": {
          "base_uri": "https://localhost:8080/"
        },
        "id": "SU665jXbag9n",
        "outputId": "12573ae4-83f2-406e-e9b2-4fccf7c2a632"
      },
      "outputs": [
        {
          "output_type": "execute_result",
          "data": {
            "text/plain": [
              "AIMessage(content='Agentic AI refers to artificial intelligence systems that are designed to act autonomously and proactively on behalf of users or other entities. These AI agents can perform tasks, make decisions, and interact with their environment without requiring constant human intervention. Key characteristics of agentic AI include:\\n\\n1. **Autonomy**: The ability to operate independently and make decisions without human input.\\n2. **Proactivity**: Taking initiative to perform tasks or achieve goals without being explicitly instructed to do so.\\n3. **Adaptability**: Learning from experience and adapting to new situations or changes in the environment.\\n4. **Interactivity**: Communicating and collaborating with users, other AI agents, or systems to achieve objectives.\\n5. **Goal-Oriented**: Focused on achieving specific goals or performing tasks that align with user needs or organizational objectives.\\n\\nExamples of agentic AI include virtual assistants like Siri or Alexa, which can perform tasks like setting reminders, sending messages, or providing information based on user queries. More advanced agentic AI systems might be used in robotics, autonomous vehicles, or complex decision-making applications.', additional_kwargs={}, response_metadata={'token_usage': {'prompt_tokens': 113, 'total_tokens': 355, 'completion_tokens': 242}, 'model': 'mistral-large-latest', 'finish_reason': 'stop'}, id='run-e2751db2-e8a3-4697-a4d2-3afeb71f5b9d-0', usage_metadata={'input_tokens': 113, 'output_tokens': 242, 'total_tokens': 355})"
            ]
          },
          "metadata": {},
          "execution_count": 18
        }
      ],
      "source": [
        "x"
      ]
    },
    {
      "cell_type": "code",
      "execution_count": 23,
      "metadata": {
        "id": "siD4PpU-CsOk"
      },
      "outputs": [],
      "source": [
        "from typing import Annotated\n",
        "from typing_extensions import TypedDict\n",
        "from langgraph.graph import StateGraph,START,END\n",
        "from langgraph.graph.message import add_messages\n",
        "\n",
        "class State(TypedDict):\n",
        "  messages:Annotated[list,add_messages]\n",
        "\n",
        "def retrieve(state: State):\n",
        "  messages = state['messages']\n",
        "  query = messages[0].content\n",
        "  #docs = base_retriever.invoke(query)\n",
        "  docs = retriever.invoke(query)\n",
        "  #docs_str = \" \".join([doc[0] for doc in ranked_docs])\n",
        "\n",
        "  return {'messages' : state['messages'] + [{'content':\"\\n\\n\".join([doc.page_content for doc in docs]),'role':'system'}]}\n",
        "\n",
        "def chat(state: State):\n",
        "  messages = state['messages']\n",
        "  query = messages[0].content\n",
        "  docs = \"\\n\".join([msg.content for msg in messages[1:]])\n",
        "  response = rag_chain.invoke({'query':query,'docs':docs})\n",
        "\n",
        "  if \"Documents Not Relevant.\" in response or \"Documents Not Relevant\" in response:\n",
        "    res = llm_with_tools.invoke(query).content\n",
        "    return {'messages' : [{'content':\"\\n\"+str(res),'role':'ai'}]}\n",
        "  else:\n",
        "    return {'messages' : [{'content':\"\\n\"+response,'role':'ai'}]}"
      ]
    },
    {
      "cell_type": "code",
      "execution_count": 24,
      "metadata": {
        "id": "9bGrx-KGUt2l"
      },
      "outputs": [],
      "source": [
        "from langgraph.prebuilt import ToolNode,tools_condition"
      ]
    },
    {
      "cell_type": "code",
      "execution_count": 25,
      "metadata": {
        "colab": {
          "base_uri": "https://localhost:8080/",
          "height": 365
        },
        "id": "LGERajA2DjKU",
        "outputId": "23515c2f-98d1-4341-9445-788ee6859e5b"
      },
      "outputs": [
        {
          "output_type": "display_data",
          "data": {
            "image/png": "[encoded data removed]",
            "text/plain": [
              "<IPython.core.display.Image object>"
            ]
          },
          "metadata": {}
        }
      ],
      "source": [
        "tool_node = ToolNode(tools=tools)\n",
        "builder = StateGraph(State)\n",
        "builder.add_edge(START,'retrieve')\n",
        "builder.add_node('retrieve',retrieve)\n",
        "builder.add_node('chat',chat)\n",
        "builder.add_edge('retrieve','chat')\n",
        "builder.add_node('tools',tool_node)\n",
        "builder.add_conditional_edges('chat',tools_condition)\n",
        "builder.add_edge('tools','chat')\n",
        "graph = builder.compile()\n",
        "\n",
        "from IPython.display import Image,display\n",
        "try:\n",
        "  display(Image(graph.get_graph().draw_mermaid_png()))\n",
        "except Exception:\n",
        "  pass"
      ]
    },
    {
      "cell_type": "code",
      "execution_count": 26,
      "metadata": {
        "colab": {
          "base_uri": "https://localhost:8080/"
        },
        "id": "-Q41bEGZEHFl",
        "outputId": "e571f2db-34dd-419b-c108-0f1d13baab3b"
      },
      "outputs": [
        {
          "output_type": "stream",
          "name": "stdout",
          "text": [
            "================================\u001b[1m Human Message \u001b[0m=================================\n",
            "\n",
            "what are these documents about?\n",
            "================================\u001b[1m System Message \u001b[0m================================\n",
            "\n",
            "Machine Learning-Based Price Estimation: A Practical Approach\n",
            "\n",
            "Machine Learning-Based Price Estimation: A Practical Approach | by Mudassir Junejo | Medium\n",
            "\n",
            "Machine Learning-Based Price Estimation: A Practical Approach | by Mudassir Junejo | Medium | Open in appSign upSign in | Introduction:Our team embarked on a mission to enhance price estimation across diverse domains, driven by a commitment to innovation, data-driven insights, and practical problem-solving.\n",
            "\n",
            "Machine Learning-Based Price Estimation: A Practical Approach | by Mudassir Junejo | Medium\n",
            "==================================\u001b[1m Ai Message \u001b[0m==================================\n",
            "\n",
            "\n",
            "These documents are about a topic titled \"Machine Learning-Based Price Estimation: A Practical Approach,\" written by Mudassir Junejo on Medium. The content focuses on a team's mission to improve price estimation across various fields using machine learning, driven by innovation, data-driven insights, and practical problem-solving.\n"
          ]
        }
      ],
      "source": [
        "you = \"what are these documents about?\"\n",
        "events = graph.stream(\n",
        "    {'messages': [('user',you)]},stream_mode='values'\n",
        ")\n",
        "for event in events:\n",
        "  event['messages'][-1].pretty_print()"
      ]
    },
    {
      "cell_type": "code",
      "source": [
        "you = \"what is cosine similarity?\"\n",
        "events = graph.stream(\n",
        "    {'messages': [('user',you)]},stream_mode='values'\n",
        ")\n",
        "for event in events:\n",
        "  event['messages'][-1].pretty_print()"
      ],
      "metadata": {
        "colab": {
          "base_uri": "https://localhost:8080/"
        },
        "id": "q185uqGvvD7k",
        "outputId": "37605c33-a22d-4353-d7d1-2f5166f32e22"
      },
      "execution_count": 27,
      "outputs": [
        {
          "output_type": "stream",
          "name": "stdout",
          "text": [
            "================================\u001b[1m Human Message \u001b[0m=================================\n",
            "\n",
            "what is cosine similarity?\n",
            "================================\u001b[1m System Message \u001b[0m================================\n",
            "\n",
            "Machine Learning-Based Price Estimation: A Practical Approach | by Mudassir Junejo | Medium\n",
            "Machine Learning-Based Price Estimation: A Practical Approach\n",
            "Machine Learning-Based Price Estimation: A Practical Approach\n",
            "Machine Learning-Based Price Estimation: A Practical Approach | by Mudassir Junejo | Medium\n",
            "Machine Learning-Based Price Estimation: A Practical Approach | by Mudassir Junejo | Medium\n",
            "Machine Learning-Based Price Estimation: A Practical Approach | by Mudassir Junejo | Medium\n",
            "Machine Learning-Based Price Estimation: A Practical Approach | by Mudassir Junejo | Medium\n",
            "Machine Learning-Based Price Estimation: A Practical Approach | by Mudassir Junejo | Medium\n",
            "Machine Learning-Based Price Estimation: A Practical Approach | by Mudassir Junejo | Medium\n",
            "Machine Learning-Based Price Estimation: A Practical Approach | by Mudassir Junejo | Medium\n",
            "Machine Learning-Based Price Estimation: A Practical Approach | by Mudassir Junejo | Medium\n",
            "Machine Learning-Based Price Estimation: A Practical Approach | by Mudassir Junejo | Medium\n",
            "Machine Learning-Based Price Estimation: A Practical Approach | by Mudassir Junejo | Medium\n",
            "Machine Learning-Based Price Estimation: A Practical Approach | by Mudassir Junejo | Medium\n",
            "Machine Learning-Based Price Estimation: A Practical Approach | by Mudassir Junejo | Medium\n",
            "Machine Learning-Based Price Estimation: A Practical Approach | by Mudassir Junejo | Medium\n",
            "Machine Learning-Based Price Estimation: A Practical Approach | by Mudassir Junejo | Medium\n",
            "Machine Learning-Based Price Estimation: A Practical Approach | by Mudassir Junejo | Medium\n",
            "Machine Learning-Based Price Estimation: A Practical Approach | by Mudassir Junejo | Medium\n",
            "Machine Learning-Based Price Estimation: A Practical Approach | by Mudassir Junejo | Medium\n",
            "Machine Learning-Based Price Estimation: A Practical Approach | by Mudassir Junejo | Medium\n",
            "\n",
            "NO_OUTPUT\n",
            "\n",
            "Machine Learning-Based Price Estimation: A Practical Approach | by Mudassir Junejo | MediumOpen in appSign upSign inWriteSign upSign in\n",
            "\n",
            "Machine Learning-Based Price Estimation: A Practical Approach | by Mudassir Junejo | Medium\n",
            "\n",
            "* *Machine Learning-Based Price Estimation: A Practical Approach*\n",
            "==================================\u001b[1m Ai Message \u001b[0m==================================\n",
            "\n",
            "\n",
            "Cosine similarity is a measure of similarity between two non-zero vectors of an inner product space. It is measured by the cosine of the angle between two vectors and determines whether two vectors are pointing in roughly the same direction. It is often used in high-dimensional positive spaces, such as in text analysis, where the vectors represent the frequency of words in documents.\n",
            "\n",
            "The cosine similarity of two vectors \\( A \\) and \\( B \\) is defined as:\n",
            "\n",
            "\\[ \\text{cosine similarity} = \\frac{A \\cdot B}{\\|A\\| \\|B\\|} \\]\n",
            "\n",
            "where \\( A \\cdot B \\) is the dot product of \\( A \\) and \\( B \\), and \\( \\|A\\| \\) and \\( \\|B\\| \\) are the magnitudes (or lengths) of vectors \\( A \\) and \\( B \\) respectively.\n",
            "\n",
            "The cosine similarity ranges from -1 to 1, where:\n",
            "- 1 means the vectors are pointing in the same direction (maximum similarity),\n",
            "- 0 means the vectors are orthogonal (no similarity),\n",
            "- -1 means the vectors are pointing in opposite directions (maximum dissimilarity).\n",
            "\n",
            "In text analysis, cosine similarity is often used to measure document similarity. Each document is represented as a vector in a high-dimensional space, where each dimension corresponds to a unique word, and the value in that dimension represents the frequency or importance of the word in the document. The cosine similarity between two document vectors indicates how similar the documents are in terms of their word content.\n"
          ]
        }
      ]
    },
    {
      "cell_type": "code",
      "source": [
        "x = graph.invoke({'messages':\"what is bulking up?\"})"
      ],
      "metadata": {
        "id": "sMO8Yst4W3Un"
      },
      "execution_count": 28,
      "outputs": []
    },
    {
      "cell_type": "code",
      "source": [
        "x['messages'][-1].content"
      ],
      "metadata": {
        "id": "Tgr2WKjMPJAw",
        "colab": {
          "base_uri": "https://localhost:8080/",
          "height": 122
        },
        "outputId": "d3a71eae-7dcb-4eb1-86aa-803a0c914003"
      },
      "execution_count": 29,
      "outputs": [
        {
          "output_type": "execute_result",
          "data": {
            "text/plain": [
              "'\\n\"Bulking up\" typically refers to the process of gaining muscle mass and increasing overall body size, often through a combination of strength training and a calorie-rich diet. This practice is common among bodybuilders, athletes, and fitness enthusiasts who aim to build a more muscular physique.\\n\\nKey components of bulking up usually include:\\n\\n1. **Strength Training**: Regular resistance exercises targeting different muscle groups to stimulate muscle growth.\\n2. **Caloric Surplus**: Consuming more calories than the body burns to provide the necessary energy and nutrients for muscle growth.\\n3. **Protein Intake**: Ensuring adequate protein consumption to support muscle repair and growth.\\n4. **Rest and Recovery**: Allowing sufficient time for muscles to recover and grow between workouts.\\n\\nWould you like more detailed information on any specific aspect of bulking up?'"
            ],
            "application/vnd.google.colaboratory.intrinsic+json": {
              "type": "string"
            }
          },
          "metadata": {},
          "execution_count": 29
        }
      ]
    },
    {
      "cell_type": "code",
      "source": [
        "!pip install gradio"
      ],
      "metadata": {
        "id": "NJwDEJBkqBgC"
      },
      "execution_count": null,
      "outputs": []
    },
    {
      "cell_type": "code",
      "source": [
        "import gradio as gr\n",
        "import time\n",
        "\n",
        "def generator(inputs):\n",
        "  for i in inputs.split():\n",
        "    yield i + \" \"\n",
        "    time.sleep(0.07)\n",
        "\n",
        "def generate_response(query, history):\n",
        "    response = graph.invoke({'messages':query.lower()})\n",
        "    response_content = response['messages'][-1].content\n",
        "    res = \"\"\n",
        "    for i in response_content.split():\n",
        "      res += i + \" \"\n",
        "      yield res\n",
        "      time.sleep(0.07)\n",
        "\n",
        "demo = gr.ChatInterface(fn=generate_response, type=\"messages\", examples=[\"Who is the author of these documents\", \"What is Cosine Similarity?\", \"What are these documents about?\"], title=\"Agentic RAG Application\")\n",
        "demo.launch(debug=True)"
      ],
      "metadata": {
        "id": "Mo-g4S4MPJd6",
        "colab": {
          "base_uri": "https://localhost:8080/",
          "height": 680
        },
        "outputId": "8abf840d-5f70-451b-97dc-2f7df7c541a3"
      },
      "execution_count": 30,
      "outputs": [
        {
          "output_type": "stream",
          "name": "stdout",
          "text": [
            "Running Gradio in a Colab notebook requires sharing enabled. Automatically setting `share=True` (you can turn this off by setting `share=False` in `launch()` explicitly).\n",
            "\n",
            "Colab notebook detected. This cell will run indefinitely so that you can see errors and logs. To turn off, set debug=False in launch().\n",
            "* Running on public URL: https://0b8c43d0b089072139.gradio.live\n",
            "\n",
            "This share link expires in 72 hours. For free permanent hosting and GPU upgrades, run `gradio deploy` from the terminal in the working directory to deploy to Hugging Face Spaces (https://huggingface.co/spaces)\n"
          ]
        },
        {
          "output_type": "display_data",
          "data": {
            "text/plain": [
              "<IPython.core.display.HTML object>"
            ],
            "text/html": [
              "<div><iframe src=\"https://0b8c43d0b089072139.gradio.live\" width=\"100%\" height=\"500\" allow=\"autoplay; camera; microphone; clipboard-read; clipboard-write;\" frameborder=\"0\" allowfullscreen></iframe></div>"
            ]
          },
          "metadata": {}
        },
        {
          "output_type": "stream",
          "name": "stdout",
          "text": [
            "Keyboard interruption in main thread... closing server.\n",
            "Killing tunnel 127.0.0.1:7860 <> https://0b8c43d0b089072139.gradio.live\n"
          ]
        },
        {
          "output_type": "execute_result",
          "data": {
            "text/plain": []
          },
          "metadata": {},
          "execution_count": 30
        }
      ]
    },
    {
      "cell_type": "code",
      "source": [],
      "metadata": {
        "id": "w9Dcc-8Fp_pC"
      },
      "execution_count": null,
      "outputs": []
    }
  ],
  "metadata": {
    "colab": {
      "provenance": []
    },
    "kernelspec": {
      "display_name": "Python 3",
      "name": "python3"
    },
    "language_info": {
      "name": "python"
    }
  },
  "nbformat": 4,
  "nbformat_minor": 0
}